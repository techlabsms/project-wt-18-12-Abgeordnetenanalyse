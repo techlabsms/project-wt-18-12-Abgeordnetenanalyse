{
 "cells": [
  {
   "cell_type": "code",
   "execution_count": 74,
   "metadata": {},
   "outputs": [],
   "source": [
    "#Imports\n",
    "%matplotlib inline\n",
    "\n",
    "import pandas as pd\n",
    "import numpy as np\n",
    "import matplotlib.pyplot as plt\n",
    "import seaborn as sns\n",
    "\n",
    "sns.set(style=\"darkgrid\")"
   ]
  },
  {
   "cell_type": "code",
   "execution_count": 37,
   "metadata": {},
   "outputs": [],
   "source": [
    "liste_merk = [\"ID\", \"NACHNAME\", \"VORNAME\",\"GESCHLECHT\", \"PATREI_KURZ\",\"GEBURTSDATUM\",\"BERUF\", \"GEBURTSLAND\"]\n",
    "\n",
    "\"MANDATSART\", \"WP\",\"\""
   ]
  },
  {
   "cell_type": "code",
   "execution_count": 52,
   "metadata": {},
   "outputs": [
    {
     "name": "stdout",
     "output_type": "stream",
     "text": [
      "4073\n"
     ]
    }
   ],
   "source": [
    "#Import\n",
    "\n",
    "import xml.etree.ElementTree as ET\n",
    "\n",
    "\n",
    "def read_xml(path):\n",
    "   xml = ET.parse(path).getroot()\n",
    "   return xml\n",
    "\n",
    "def search_for_name(tree, attr):\n",
    "   names = []\n",
    "   for child in tree:\n",
    "       if child.tag == attr:\n",
    "           names += [child.text]\n",
    "       else:\n",
    "           names += search_for_name(child, attr)\n",
    "   return names\n",
    "\n",
    "#Test\n",
    "if __name__==\"__main__\":\n",
    "   xml = read_xml(\"/Users/Laszlo Kuehl/Desktop/Project_12/mdb-stammdaten-data/MDB_STAMMDATEN.XML\")\n",
    "   names = search_for_name(xml,\"GESCHLECHT\")\n",
    "   \n",
    "\n",
    "print(len(names))"
   ]
  },
  {
   "cell_type": "code",
   "execution_count": 79,
   "metadata": {},
   "outputs": [],
   "source": [
    "#Erste Ansätze für ein DataFrame\n",
    "column_list = []\n",
    "for attr in liste_merk:\n",
    "    if __name__==\"__main__\":\n",
    "        xml = read_xml(\"/Users/Laszlo Kuehl/Desktop/Project_12/mdb-stammdaten-data/MDB_STAMMDATEN.XML\")\n",
    "        names = search_for_name(xml, attr)\n",
    "        column_list.append(names)"
   ]
  },
  {
   "cell_type": "code",
   "execution_count": 191,
   "metadata": {},
   "outputs": [
    {
     "ename": "TypeError",
     "evalue": "list indices must be integers or slices, not str",
     "output_type": "error",
     "traceback": [
      "\u001b[1;31m---------------------------------------------------------------------------\u001b[0m",
      "\u001b[1;31mTypeError\u001b[0m                                 Traceback (most recent call last)",
      "\u001b[1;32m<ipython-input-191-20728b682186>\u001b[0m in \u001b[0;36m<module>\u001b[1;34m()\u001b[0m\n\u001b[0;32m      1\u001b[0m \u001b[0mliste_merk\u001b[0m \u001b[1;33m=\u001b[0m \u001b[1;33m[\u001b[0m\u001b[1;34m\"ID\"\u001b[0m\u001b[1;33m,\u001b[0m \u001b[1;34m\"NACHNAME\"\u001b[0m\u001b[1;33m,\u001b[0m \u001b[1;34m\"VORNAME\"\u001b[0m\u001b[1;33m,\u001b[0m\u001b[1;34m\"GESCHLECHT\"\u001b[0m\u001b[1;33m,\u001b[0m \u001b[1;34m\"PARTEI_KURZ\"\u001b[0m\u001b[1;33m,\u001b[0m\u001b[1;34m\"GEBURTSDATUM\"\u001b[0m\u001b[1;33m,\u001b[0m\u001b[1;34m\"BERUF\"\u001b[0m\u001b[1;33m,\u001b[0m \u001b[1;34m\"GEBURTSLAND\"\u001b[0m\u001b[1;33m]\u001b[0m\u001b[1;33m\u001b[0m\u001b[0m\n\u001b[0;32m      2\u001b[0m \u001b[0mliste_merk_2\u001b[0m \u001b[1;33m=\u001b[0m \u001b[1;33m[\u001b[0m\u001b[1;34m\"ID\"\u001b[0m\u001b[1;33m,\u001b[0m\u001b[1;34m\"GESCHLECHT\"\u001b[0m\u001b[1;33m,\u001b[0m \u001b[1;34m\"PARTEI_KURZ\"\u001b[0m\u001b[1;33m,\u001b[0m\u001b[1;34m\"GEBURTSDATUM\"\u001b[0m\u001b[1;33m,\u001b[0m\u001b[1;34m\"BERUF\"\u001b[0m\u001b[1;33m,\u001b[0m \u001b[1;34m\"GEBURTSLAND\"\u001b[0m\u001b[1;33m]\u001b[0m\u001b[1;33m\u001b[0m\u001b[0m\n\u001b[1;32m----> 3\u001b[1;33m \u001b[0mprint\u001b[0m\u001b[1;33m(\u001b[0m\u001b[0mliste_merk\u001b[0m\u001b[1;33m[\u001b[0m\u001b[1;34m\"ID\"\u001b[0m\u001b[1;33m]\u001b[0m\u001b[1;33m)\u001b[0m\u001b[1;33m\u001b[0m\u001b[0m\n\u001b[0m",
      "\u001b[1;31mTypeError\u001b[0m: list indices must be integers or slices, not str"
     ]
    }
   ],
   "source": [
    "liste_merk = [\"ID\", \"NACHNAME\", \"VORNAME\",\"GESCHLECHT\", \"PARTEI_KURZ\",\"GEBURTSDATUM\",\"BERUF\", \"GEBURTSLAND\"]\n",
    "liste_merk_2 = [\"ID\",\"GESCHLECHT\", \"PARTEI_KURZ\",\"GEBURTSDATUM\",\"BERUF\", \"GEBURTSLAND\"]"
   ]
  },
  {
   "cell_type": "code",
   "execution_count": 81,
   "metadata": {},
   "outputs": [
    {
     "name": "stdout",
     "output_type": "stream",
     "text": [
      "8\n",
      "4073\n",
      "4336\n",
      "4336\n",
      "4073\n",
      "4073\n",
      "4073\n",
      "4073\n",
      "4073\n"
     ]
    }
   ],
   "source": [
    "print(len(column_list))\n",
    "\n",
    "for i in column_list:\n",
    "    print(len(i))"
   ]
  },
  {
   "cell_type": "code",
   "execution_count": 120,
   "metadata": {},
   "outputs": [
    {
     "data": {
      "text/plain": [
       "ID              object\n",
       "GESCHLECHT      object\n",
       "PARTEI_KURZ     object\n",
       "GEBURTSDATUM    object\n",
       "BERUF           object\n",
       "GEBURTSLAND     object\n",
       "dtype: object"
      ]
     },
     "execution_count": 120,
     "metadata": {},
     "output_type": "execute_result"
    }
   ],
   "source": [
    "df_first.dtypes"
   ]
  },
  {
   "cell_type": "code",
   "execution_count": 143,
   "metadata": {
    "scrolled": true
   },
   "outputs": [
    {
     "name": "stdout",
     "output_type": "stream",
     "text": [
      "         ID GESCHLECHT PARTEI_KURZ GEBURTSDATUM  \\\n",
      "0  11000001   männlich         CDU         1930   \n",
      "1  11000002   männlich         FDP         1909   \n",
      "2  11000003   weiblich         CDU         1913   \n",
      "3  11000004   weiblich         CDU         1933   \n",
      "4  11000005   männlich         CDU         1950   \n",
      "\n",
      "                                               BERUF  GEBURTSLAND  \n",
      "0  Rechtsanwalt, Wirtschaftsprüfer, Universitätsp...  Deutschland  \n",
      "1                             Rechtsanwalt und Notar  Deutschland  \n",
      "2                                    Hilfsreferentin  Jugoslawien  \n",
      "3                                             Ärztin  Deutschland  \n",
      "4                      Mathematiker, Geschäftsführer  Deutschland  \n"
     ]
    }
   ],
   "source": [
    "df_first = pd.DataFrame(np.column_stack([column_list[0],column_list[3],column_list[4],column_list[5],column_list[6],column_list[7]]), columns = liste_merk_2)\n",
    "\n",
    "df_first.loc[df_first[\"GEBURTSLAND\"].isnull(), \"GEBURTSLAND\"] = \"Deutschland\"\n",
    "\n",
    "\n",
    "print(df_first.head())\n",
    "\n",
    "   "
   ]
  },
  {
   "cell_type": "code",
   "execution_count": 144,
   "metadata": {},
   "outputs": [
    {
     "name": "stdout",
     "output_type": "stream",
     "text": [
      "11600\n"
     ]
    }
   ],
   "source": [
    "if __name__==\"__main__\":\n",
    "   xml = read_xml(\"/Users/Laszlo Kuehl/Desktop/Project_12/mdb-stammdaten-data/MDB_STAMMDATEN.XML\")\n",
    "   names = search_for_name(xml, \"WP\")\n",
    "\n",
    "    \n",
    "print(len(names))"
   ]
  },
  {
   "cell_type": "code",
   "execution_count": 147,
   "metadata": {},
   "outputs": [],
   "source": [
    "def read_xml(path):\n",
    " xml = ET.parse(path).getroot()\n",
    " return xml\n",
    "\n",
    "def search_for_nameRoots(root):\n",
    " names = []\n",
    " for child in root:\n",
    "     if child.tag == \"NAMEN\":\n",
    "         names += [child]\n",
    "     else:\n",
    "         names += search_for_nameRoots(child)\n",
    " return names\n",
    "\n",
    "xml = read_xml(path = \"/Users/Laszlo Kuehl/Desktop/Project_12/mdb-stammdaten-data/MDB_STAMMDATEN.XML\")\n",
    "\n",
    "nameRoots = search_for_nameRoots(xml)\n",
    "\n",
    "firstNameElements = []\n",
    "for element in nameRoots:\n",
    "   firstNameElements += [element[0].find('VORNAME').text]\n",
    "\n",
    "lastNameElements = []\n",
    "for element in nameRoots:\n",
    "   lastNameElements += [element[0].find('NACHNAME').text]\n",
    "\n"
   ]
  },
  {
   "cell_type": "code",
   "execution_count": 150,
   "metadata": {},
   "outputs": [],
   "source": [
    "df_first[\"NACHNAME\"] = lastNameElements\n",
    "df_first[\"VORNAME\"] = firstNameElements"
   ]
  },
  {
   "cell_type": "code",
   "execution_count": 152,
   "metadata": {
    "scrolled": true
   },
   "outputs": [
    {
     "data": {
      "text/html": [
       "<div>\n",
       "<style scoped>\n",
       "    .dataframe tbody tr th:only-of-type {\n",
       "        vertical-align: middle;\n",
       "    }\n",
       "\n",
       "    .dataframe tbody tr th {\n",
       "        vertical-align: top;\n",
       "    }\n",
       "\n",
       "    .dataframe thead th {\n",
       "        text-align: right;\n",
       "    }\n",
       "</style>\n",
       "<table border=\"1\" class=\"dataframe\">\n",
       "  <thead>\n",
       "    <tr style=\"text-align: right;\">\n",
       "      <th></th>\n",
       "      <th>ID</th>\n",
       "      <th>GESCHLECHT</th>\n",
       "      <th>PARTEI_KURZ</th>\n",
       "      <th>GEBURTSDATUM</th>\n",
       "      <th>BERUF</th>\n",
       "      <th>GEBURTSLAND</th>\n",
       "      <th>NACHNAME</th>\n",
       "      <th>VORNAME</th>\n",
       "    </tr>\n",
       "  </thead>\n",
       "  <tbody>\n",
       "    <tr>\n",
       "      <th>0</th>\n",
       "      <td>11000001</td>\n",
       "      <td>männlich</td>\n",
       "      <td>CDU</td>\n",
       "      <td>1930</td>\n",
       "      <td>Rechtsanwalt, Wirtschaftsprüfer, Universitätsp...</td>\n",
       "      <td>Deutschland</td>\n",
       "      <td>Abelein</td>\n",
       "      <td>Manfred</td>\n",
       "    </tr>\n",
       "    <tr>\n",
       "      <th>1</th>\n",
       "      <td>11000002</td>\n",
       "      <td>männlich</td>\n",
       "      <td>FDP</td>\n",
       "      <td>1909</td>\n",
       "      <td>Rechtsanwalt und Notar</td>\n",
       "      <td>Deutschland</td>\n",
       "      <td>Achenbach</td>\n",
       "      <td>Ernst</td>\n",
       "    </tr>\n",
       "    <tr>\n",
       "      <th>2</th>\n",
       "      <td>11000003</td>\n",
       "      <td>weiblich</td>\n",
       "      <td>CDU</td>\n",
       "      <td>1913</td>\n",
       "      <td>Hilfsreferentin</td>\n",
       "      <td>Jugoslawien</td>\n",
       "      <td>Ackermann</td>\n",
       "      <td>Annemarie</td>\n",
       "    </tr>\n",
       "    <tr>\n",
       "      <th>3</th>\n",
       "      <td>11000004</td>\n",
       "      <td>weiblich</td>\n",
       "      <td>CDU</td>\n",
       "      <td>1933</td>\n",
       "      <td>Ärztin</td>\n",
       "      <td>Deutschland</td>\n",
       "      <td>Ackermann</td>\n",
       "      <td>Else</td>\n",
       "    </tr>\n",
       "    <tr>\n",
       "      <th>4</th>\n",
       "      <td>11000005</td>\n",
       "      <td>männlich</td>\n",
       "      <td>CDU</td>\n",
       "      <td>1950</td>\n",
       "      <td>Mathematiker, Geschäftsführer</td>\n",
       "      <td>Deutschland</td>\n",
       "      <td>Adam</td>\n",
       "      <td>Ulrich</td>\n",
       "    </tr>\n",
       "  </tbody>\n",
       "</table>\n",
       "</div>"
      ],
      "text/plain": [
       "         ID GESCHLECHT PARTEI_KURZ GEBURTSDATUM  \\\n",
       "0  11000001   männlich         CDU         1930   \n",
       "1  11000002   männlich         FDP         1909   \n",
       "2  11000003   weiblich         CDU         1913   \n",
       "3  11000004   weiblich         CDU         1933   \n",
       "4  11000005   männlich         CDU         1950   \n",
       "\n",
       "                                               BERUF  GEBURTSLAND   NACHNAME  \\\n",
       "0  Rechtsanwalt, Wirtschaftsprüfer, Universitätsp...  Deutschland    Abelein   \n",
       "1                             Rechtsanwalt und Notar  Deutschland  Achenbach   \n",
       "2                                    Hilfsreferentin  Jugoslawien  Ackermann   \n",
       "3                                             Ärztin  Deutschland  Ackermann   \n",
       "4                      Mathematiker, Geschäftsführer  Deutschland       Adam   \n",
       "\n",
       "     VORNAME  \n",
       "0    Manfred  \n",
       "1      Ernst  \n",
       "2  Annemarie  \n",
       "3       Else  \n",
       "4     Ulrich  "
      ]
     },
     "execution_count": 152,
     "metadata": {},
     "output_type": "execute_result"
    }
   ],
   "source": [
    "df_first.head()"
   ]
  },
  {
   "cell_type": "code",
   "execution_count": 202,
   "metadata": {},
   "outputs": [
    {
     "name": "stdout",
     "output_type": "stream",
     "text": [
      "4073\n"
     ]
    }
   ],
   "source": [
    "def read_xml(path):\n",
    "    xml = ET.parse(path).getroot()\n",
    "    return xml\n",
    "\n",
    "def search_for_nameRoots1(root):\n",
    "    names = []\n",
    "    for child in root:\n",
    "        if child.tag == \"WAHLPERIODEN\":\n",
    "            names += [search_for_nameRoots2(child)]\n",
    "        else:\n",
    "            names += search_for_nameRoots1(child)\n",
    "    return names\n",
    "\n",
    "\n",
    "def search_for_nameRoots2(root2):\n",
    "    names2 = []\n",
    "    for child2 in root2:\n",
    "        if child2.tag == \"WP\":\n",
    "            names2 += [child2]\n",
    "        elif child2.tag == \"ID\":\n",
    "            break\n",
    "        else:\n",
    "            names2 += search_for_nameRoots2(child2)\n",
    "    return names2\n",
    "\n",
    "\n",
    "xml = read_xml(path = \"/Users/Laszlo Kuehl/Desktop/Project_12/mdb-stammdaten-data/MDB_STAMMDATEN.XML\")\n",
    "\n",
    "WP = search_for_nameRoots1(xml)\n",
    "    \n",
    "    \n",
    "def extracting_WP(list1):\n",
    "    WPelements = []\n",
    "    for i in list1:\n",
    "        sub_list = []\n",
    "        for a in i:\n",
    "            sub_list += [a.text]\n",
    "        WPelements += [sub_list]\n",
    "    return WPelements\n",
    "        \n",
    "        \n",
    "    \n",
    "\n",
    "w_perioden = extracting_WP(WP)\n",
    "\n",
    "print(len(w_perioden))\n",
    "\n"
   ]
  },
  {
   "cell_type": "code",
   "execution_count": null,
   "metadata": {},
   "outputs": [],
   "source": []
  }
 ],
 "metadata": {
  "kernelspec": {
   "display_name": "Python 3",
   "language": "python",
   "name": "python3"
  },
  "language_info": {
   "codemirror_mode": {
    "name": "ipython",
    "version": 3
   },
   "file_extension": ".py",
   "mimetype": "text/x-python",
   "name": "python",
   "nbconvert_exporter": "python",
   "pygments_lexer": "ipython3",
   "version": "3.7.0"
  }
 },
 "nbformat": 4,
 "nbformat_minor": 2
}
